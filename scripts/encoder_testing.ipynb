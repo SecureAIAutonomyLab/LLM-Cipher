{
 "cells": [
  {
   "cell_type": "code",
   "execution_count": 35,
   "metadata": {},
   "outputs": [],
   "source": [
    "from transformers import T5Config, T5EncoderModel, T5Tokenizer\n",
    "\n",
    "config = T5Config()\n",
    "\n",
    "encoder = T5EncoderModel(config)\n",
    "\n",
    "tokenizer = T5Tokenizer.from_pretrained(\"google/flan-t5-base\")\n",
    "\n",
    "article_body = (\n",
    "    \"In a surprising turn of events, scientists at the fictitious Pangea University \"\n",
    "    \"announced yesterday that they have discovered a new species of chameleon in the \"\n",
    "    \"heart of New York City's Central Park. The 'Urban Chameleon', as it's being \"\n",
    "    \"dubbed, is believed to have evolved over the past decade and possesses an \"\n",
    "    \"uncanny ability to mimic common city objects like traffic cones and discarded \"\n",
    "    \"coffee cups. Dr. Ima Pretend, the lead researcher on the project, mentioned, \"\n",
    "    \"'It's truly a marvel of evolution. We've never seen anything quite like this. \"\n",
    "    \"When in danger, the Urban Chameleon can seamlessly blend into its surroundings, \"\n",
    "    \"making it nearly indistinguishable from everyday city trash.' The team believes \"\n",
    "    \"that the chameleon's unique adaptation might be a result of the city's increasing \"\n",
    "    \"litter issue. While fascinating, environmentalists are taking this discovery as \"\n",
    "    \"a sign that the city needs to ramp up its waste management efforts. Studies on \"\n",
    "    \"the Urban Chameleon will continue, with the hope of learning more about its \"\n",
    "    \"origins and potential implications for urban ecosystems. However, it's important to note that.\"\n",
    "    \"In a surprising turn of events, scientists at the fictitious Pangea University \"\n",
    "    \"announced yesterday that they have discovered a new species of chameleon in the \"\n",
    "    \"heart of New York City's Central Park. The 'Urban Chameleon', as it's being \"\n",
    "    \"dubbed, is believed to have evolved over the past decade and possesses an \"\n",
    "    \"uncanny ability to mimic common city objects like traffic cones and discarded \"\n",
    "    \"coffee cups. Dr. Ima Pretend, the lead researcher on the project, mentioned, \"\n",
    "    \"'It's truly a marvel of evolution. We've never seen anything quite like this. \"\n",
    "    \"When in danger, the Urban Chameleon can seamlessly blend into its surroundings, \"\n",
    "    \"making it nearly indistinguishable from everyday city trash.' The team believes \"\n",
    "    \"that the chameleon's unique adaptation might be a result of the city's increasing \"\n",
    "    \"litter issue. While fascinating, environmentalists are taking this discovery as \"\n",
    "    \"a sign that the city needs to ramp up its waste management efforts. Studies on \"\n",
    "    \"the Urban Chameleon will continue, with the hope of learning more about its \"\n",
    "    \"origins and potential implications for urban ecosystems. However, it's important to note that.\"\n",
    "    \"litter issue. While fascinating, environmentalists are taking this discovery as \"\n",
    "    \"a sign that the city needs to ramp up its waste management efforts. Studies on \"\n",
    "    \"the Urban Chameleon will continue, with the hope of learning more about its \"\n",
    "    \"origins and potential implications for urban ecosystems. However, it's important to note that.\"\n",
    "    \"In a surprising turn of events, scientists at the fictitious Pangea University \"\n",
    "    \"announced yesterday that they have discovered a new species of chameleon in the \"\n",
    "    \"heart of New York City's Central Park. The 'Urban Chameleon', as it's being \"\n",
    "    \"dubbed, is believed to have evolved over the past decade and possesses an \"\n",
    "    \"uncanny ability to mimic common city objects like traffic cones and discarded \"\n",
    "    \"coffee cups. Dr. Ima Pretend, the lead researcher on the project, mentioned, \"\n",
    ")\n",
    "\n",
    "\n",
    "tokenized_text = tokenizer(article_body, return_tensors='pt', padding='max_length', max_length=512)\n",
    "\n"
   ]
  },
  {
   "cell_type": "code",
   "execution_count": 36,
   "metadata": {},
   "outputs": [
    {
     "name": "stdout",
     "output_type": "stream",
     "text": [
      "tensor([[   86,     3,     9, 10306,   919,    13,   984,     6,  7004,    44,\n",
      "             8,     3,  4638,  9715,  1162,   276,  3280,     9,   636,  2162,\n",
      "          4981,    24,    79,    43,  3883,     3,     9,   126,  3244,    13,\n",
      "             3, 17788,   400,   106,    16,     8,   842,    13,   368,  1060,\n",
      "           896,    31,     7,  2808,  1061,     5,    37,     3,    31,  1265,\n",
      "            52,  3478, 18529,   400,   106,    31,     6,    38,    34,    31,\n",
      "             7,   271,     3,    26, 17344,     6,    19,  6141,    12,    43,\n",
      "         14021,   147,     8,   657,  5112,    11,     3, 26735,    46,    73,\n",
      "            75, 15159,  1418,    12, 22336,  1017,   690,  4820,   114,  2117,\n",
      "         14075,     7,    11,     3, 29611,  1975, 12294,     5,   707,     5,\n",
      "          1318,     9,  1266,   324,    26,     6,     8,   991, 18658,    30,\n",
      "             8,   516,     6,  2799,     6,     3,    31,   196,    17,    31,\n",
      "             7,  1892,     3,     9, 23092,    13,  9009,     5,   101,    31,\n",
      "           162,   470,   894,   959,   882,   114,    48,     5,   366,    16,\n",
      "          5129,     6,     8, 10127, 18529,   400,   106,    54, 20302,  4764,\n",
      "           139,   165, 14338,     6,   492,    34,  2111,    16, 19694,  1744,\n",
      "          1273,   179,    45,  4604,   690,  7623,     5,    31,    37,   372,\n",
      "          7228,    24,     8,     3, 17788,   400,   106,    31,     7,   775,\n",
      "         14340,   429,    36,     3,     9,   741,    13,     8,   690,    31,\n",
      "             7,  3094, 19886,   962,     5,   818,  8899,     6,  3262,   343,\n",
      "             7,    33,   838,    48,  9087,    38,     3,     9,  1320,    24,\n",
      "             8,   690,   523,    12, 10785,    95,   165,  2670,   758,  2231,\n",
      "             5,  6536,    30,     8, 10127, 18529,   400,   106,    56,   916,\n",
      "             6,    28,     8,   897,    13,  1036,    72,    81,   165,  5233,\n",
      "             7,    11,  1055, 12418,    21,  4150, 10789,     7,     5,   611,\n",
      "             6,    34,    31,     7,   359,    12,  2232,    24,     5,  1570,\n",
      "             3,     9, 10306,   919,    13,   984,     6,  7004,    44,     8,\n",
      "             3,  4638,  9715,  1162,   276,  3280,     9,   636,  2162,  4981,\n",
      "            24,    79,    43,  3883,     3,     9,   126,  3244,    13,     3,\n",
      "         17788,   400,   106,    16,     8,   842,    13,   368,  1060,   896,\n",
      "            31,     7,  2808,  1061,     5,    37,     3,    31,  1265,    52,\n",
      "          3478, 18529,   400,   106,    31,     6,    38,    34,    31,     7,\n",
      "           271,     3,    26, 17344,     6,    19,  6141,    12,    43, 14021,\n",
      "           147,     8,   657,  5112,    11,     3, 26735,    46,    73,    75,\n",
      "         15159,  1418,    12, 22336,  1017,   690,  4820,   114,  2117, 14075,\n",
      "             7,    11,     3, 29611,  1975, 12294,     5,   707,     5,  1318,\n",
      "             9,  1266,   324,    26,     6,     8,   991, 18658,    30,     8,\n",
      "           516,     6,  2799,     6,     3,    31,   196,    17,    31,     7,\n",
      "          1892,     3,     9, 23092,    13,  9009,     5,   101,    31,   162,\n",
      "           470,   894,   959,   882,   114,    48,     5,   366,    16,  5129,\n",
      "             6,     8, 10127, 18529,   400,   106,    54, 20302,  4764,   139,\n",
      "           165, 14338,     6,   492,    34,  2111,    16, 19694,  1744,  1273,\n",
      "           179,    45,  4604,   690,  7623,     5,    31,    37,   372,  7228,\n",
      "            24,     8,     3, 17788,   400,   106,    31,     7,   775, 14340,\n",
      "           429,    36,     3,     9,   741,    13,     8,   690,    31,     7,\n",
      "          3094, 19886,   962,     5,   818,  8899,     6,  3262,   343,     7,\n",
      "            33,   838,    48,  9087,    38,     3,     9,  1320,    24,     8,\n",
      "           690,   523,    12, 10785,    95,   165,  2670,   758,  2231,     5,\n",
      "          6536,    30,     8, 10127, 18529,   400,   106,    56,   916,     6,\n",
      "            28,     8,   897,    13,  1036,    72,    81,   165,  5233,     7,\n",
      "            11,  1055, 12418,    21,  4150, 10789,     7,     5,   611,     6,\n",
      "            34,    31,     7,   359,    12,  2232,    24,     5,  4250,   449,\n",
      "           962,     5,   818,  8899,     6,  3262,   343,     7,    33,   838,\n",
      "            48,  9087,    38,     3,     9,  1320,    24,     8,   690,   523,\n",
      "            12, 10785,    95,   165,  2670,   758,  2231,     5,  6536,    30,\n",
      "             8, 10127, 18529,   400,   106,    56,   916,     6,    28,     8,\n",
      "           897,    13,  1036,    72,    81,   165,  5233,     7,    11,  1055,\n",
      "         12418,    21,  4150, 10789,     7,     5,   611,     6,    34,    31,\n",
      "             7,   359,    12,  2232,    24,     5,  1570,     3,     9, 10306,\n",
      "           919,    13,   984,     6,  7004,    44,     8,     3,  4638,  9715,\n",
      "          1162,   276,  3280,     9,   636,  2162,  4981,    24,    79,    43,\n",
      "          3883,     3,     9,   126,  3244,    13,     3, 17788,   400,   106,\n",
      "            16,     8,   842,    13,   368,  1060,   896,    31,     7,  2808,\n",
      "          1061,     5,    37,     3,    31,  1265,    52,  3478, 18529,   400,\n",
      "           106,    31,     6,    38,    34,    31,     7,   271,     3,    26,\n",
      "         17344,     6,    19,  6141,    12,    43, 14021,   147,     8,   657,\n",
      "          5112,    11,     3, 26735,    46,    73,    75, 15159,  1418,    12,\n",
      "         22336,  1017,   690,  4820,   114,  2117, 14075,     7,    11,     3,\n",
      "         29611,  1975, 12294,     5,   707,     5,  1318,     9,  1266,   324,\n",
      "            26,     6,     8,   991, 18658,    30,     8,   516,     6,  2799,\n",
      "             6,     1]])\n"
     ]
    }
   ],
   "source": [
    "print(tokenized_text.input_ids)\n"
   ]
  },
  {
   "cell_type": "code",
   "execution_count": 37,
   "metadata": {},
   "outputs": [
    {
     "data": {
      "text/plain": [
       "torch.Size([1, 702, 512])"
      ]
     },
     "execution_count": 37,
     "metadata": {},
     "output_type": "execute_result"
    }
   ],
   "source": [
    "embeddings = encoder.forward(input_ids=tokenized_text.input_ids, attention_mask=tokenized_text.attention_mask)\n",
    "\n",
    "embeddings['last_hidden_state'].shape\n"
   ]
  },
  {
   "cell_type": "code",
   "execution_count": null,
   "metadata": {},
   "outputs": [],
   "source": []
  }
 ],
 "metadata": {
  "kernelspec": {
   "display_name": "text-detection",
   "language": "python",
   "name": "python3"
  },
  "language_info": {
   "codemirror_mode": {
    "name": "ipython",
    "version": 3
   },
   "file_extension": ".py",
   "mimetype": "text/x-python",
   "name": "python",
   "nbconvert_exporter": "python",
   "pygments_lexer": "ipython3",
   "version": "3.8.18"
  },
  "orig_nbformat": 4
 },
 "nbformat": 4,
 "nbformat_minor": 2
}
